{
 "cells": [
  {
   "cell_type": "code",
   "execution_count": 21,
   "id": "9c8121b7-7f53-495c-82c9-c52d3cb31576",
   "metadata": {},
   "outputs": [
    {
     "name": "stdin",
     "output_type": "stream",
     "text": [
      "Enter your name:  Subhashis\n",
      "Enter your Weight(KG):  71\n",
      "Enter your Height(M):  1.77\n"
     ]
    },
    {
     "name": "stdout",
     "output_type": "stream",
     "text": [
      "You are Normal Subhashis\n"
     ]
    }
   ],
   "source": [
    "Name = input(\"Enter your name: \")\n",
    "Weight = float(input(\"Enter your Weight(KG): \"))\n",
    "Height = float(input(\"Enter your Height(M): \"))\n",
    "\n",
    "BMI = Weight / (Height * Height)\n",
    "\n",
    "if BMI<16:\n",
    "    print(\"You have Severe Thinness \"+Name)\n",
    "elif BMI<=17:\n",
    "    print(\"You have Moderate Thinness \"+Name)\n",
    "elif BMI<=18.5:\n",
    "    print(\"You have Mild Thinness \"+Name)\n",
    "elif BMI<=25:\n",
    "    print(\"You are Normal \"+Name)\n",
    "elif BMI<=30:\n",
    "    print(\"You are Obese \"+Name)\n",
    "elif BMI<=35:\n",
    "    print(\"You are Obese Class 1 \"+Name)\n",
    "elif BMI<=40:\n",
    "    print(\"You are Obese Class 2 \"+Name)\n",
    "else:\n",
    "    print(\"You are Obese Class 3 \"+Name)"
   ]
  },
  {
   "cell_type": "code",
   "execution_count": null,
   "id": "ca1192cb-5c72-4d90-951f-9fe193b13ba1",
   "metadata": {},
   "outputs": [],
   "source": []
  },
  {
   "cell_type": "code",
   "execution_count": null,
   "id": "cb87499d-4aef-4ab0-9397-caa4a2f2bf33",
   "metadata": {},
   "outputs": [],
   "source": []
  },
  {
   "cell_type": "code",
   "execution_count": null,
   "id": "8c46e803-720b-42a1-be35-99674fde808c",
   "metadata": {},
   "outputs": [],
   "source": []
  },
  {
   "cell_type": "code",
   "execution_count": null,
   "id": "3798ba6f-ef49-4f67-81f1-10b8fbb8efea",
   "metadata": {},
   "outputs": [],
   "source": []
  },
  {
   "cell_type": "code",
   "execution_count": null,
   "id": "d2ecd571-b785-4476-9090-45e57850fe91",
   "metadata": {},
   "outputs": [],
   "source": []
  },
  {
   "cell_type": "code",
   "execution_count": null,
   "id": "565cda21-7392-4851-9091-d2ed4d1a322b",
   "metadata": {},
   "outputs": [],
   "source": []
  },
  {
   "cell_type": "code",
   "execution_count": null,
   "id": "0e65026b-2726-4a35-b407-2b2bca5c1565",
   "metadata": {},
   "outputs": [],
   "source": []
  },
  {
   "cell_type": "code",
   "execution_count": null,
   "id": "e18ad0e8-50a6-4600-84af-e63c8cf83be6",
   "metadata": {},
   "outputs": [],
   "source": []
  },
  {
   "cell_type": "code",
   "execution_count": null,
   "id": "e327dd3d-bbe8-4133-aa68-881b4283e92b",
   "metadata": {},
   "outputs": [],
   "source": []
  },
  {
   "cell_type": "code",
   "execution_count": null,
   "id": "fae1fa3b-fd03-4db5-85cf-1d9220d25100",
   "metadata": {},
   "outputs": [],
   "source": []
  },
  {
   "cell_type": "code",
   "execution_count": null,
   "id": "7638c561-cfee-4ce6-a51d-c19e904be2f9",
   "metadata": {},
   "outputs": [],
   "source": []
  },
  {
   "cell_type": "code",
   "execution_count": null,
   "id": "1a7529e4-2ab6-4c22-af25-3ef08d35856d",
   "metadata": {},
   "outputs": [],
   "source": []
  }
 ],
 "metadata": {
  "kernelspec": {
   "display_name": "Python 3 (ipykernel)",
   "language": "python",
   "name": "python3"
  },
  "language_info": {
   "codemirror_mode": {
    "name": "ipython",
    "version": 3
   },
   "file_extension": ".py",
   "mimetype": "text/x-python",
   "name": "python",
   "nbconvert_exporter": "python",
   "pygments_lexer": "ipython3",
   "version": "3.13.5"
  }
 },
 "nbformat": 4,
 "nbformat_minor": 5
}
